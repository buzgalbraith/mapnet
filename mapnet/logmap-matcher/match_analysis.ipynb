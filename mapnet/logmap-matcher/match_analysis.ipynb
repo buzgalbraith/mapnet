{
 "cells": [
  {
   "cell_type": "markdown",
   "id": "e146b4a7",
   "metadata": {},
   "source": [
    "# going to analyze the results of logmap matching\n",
    "- first lets load all the data frames "
   ]
  },
  {
   "cell_type": "code",
   "execution_count": 1,
   "id": "71131c43",
   "metadata": {},
   "outputs": [],
   "source": [
    "import polars as pl\n",
    "from mapnet.utils import format_mappings, load_known_mappings_df, load_biomappings_df, quality_check_mappings\n",
    "import obonet\n",
    "from indra.databases import mesh_client"
   ]
  },
  {
   "cell_type": "code",
   "execution_count": null,
   "id": "85395b0e",
   "metadata": {},
   "outputs": [
    {
     "name": "stderr",
     "output_type": "stream",
     "text": [
      "INFO: [2025-04-14 19:25:03] root - Will decode content from https://raw.githubusercontent.com/DiseaseOntology/HumanDiseaseOntology/main/src/ontology/HumanDO.obo using utf-8 charset.\n"
     ]
    }
   ],
   "source": [
    "g = obonet.read_obo(\n",
    "    \"https://raw.githubusercontent.com/DiseaseOntology/\"\n",
    "    \"HumanDiseaseOntology/main/src/ontology/HumanDO.obo\"\n",
    ")\n",
    "maps_path = \"/home/buzgalbraith/workspace/mapnet/mapnet/logmap-matcher/output/logmap2_mappings.tsv\"\n",
    "raw_maps = pl.read_csv(\n",
    "    maps_path,\n",
    "    separator=\"\\t\",\n",
    "    has_header=False,\n",
    "    new_columns=[\"source iri\", \"target iri\", \"confidence\"],\n",
    ")\n",
    "predicted_maps = format_mappings(\n",
    "    df=raw_maps,\n",
    "    source_prefix=\"DOID\",\n",
    "    target_prefix=\"MESH\",\n",
    "    matching_source=\"LogMap\",\n",
    "    source_name_func=lambda x: g.nodes[x][\"name\"],\n",
    "    target_name_func=lambda x: mesh_client.get_mesh_name(x),\n",
    ")\n",
    "\n",
    "known_mappings = load_known_mappings_df(known_mappings_path=\"/home/buzgalbraith/workspace/mapnet/knownMaps/doid_to_mesh_provided_maps.tsv\",\n",
    "    source_name_func=lambda x: g.nodes[x][\"name\"],\n",
    "    target_name_func=lambda x: mesh_client.get_mesh_name(x),)\n",
    "\n",
    "biomappings_maps = load_biomappings_df(\n",
    "    source_prefix=\"DOID\",\n",
    "    target_prefix=\"MESH\",\n",
    ")\n",
    "evidence = known_mappings.select(['source identifier', 'target identifier']).vstack(biomappings_maps.select(['source identifier', 'target identifier']))\n",
    "\n"
   ]
  },
  {
   "cell_type": "markdown",
   "id": "653e3d11",
   "metadata": {},
   "source": [
    "How many mappings are present directly from the known mappings?"
   ]
  },
  {
   "cell_type": "code",
   "execution_count": 21,
   "id": "89617e85",
   "metadata": {},
   "outputs": [
    {
     "name": "stdout",
     "output_type": "stream",
     "text": [
      "out of 3115 total mappings, there are 2429 that is 0.7797752808988764\n"
     ]
    },
    {
     "data": {
      "text/html": [
       "<div><style>\n",
       ".dataframe > thead > tr,\n",
       ".dataframe > tbody > tr {\n",
       "  text-align: right;\n",
       "  white-space: pre-wrap;\n",
       "}\n",
       "</style>\n",
       "<small>shape: (5, 13)</small><table border=\"1\" class=\"dataframe\"><thead><tr><th>source prefix</th><th>source identifier</th><th>source name</th><th>relation</th><th>target prefix</th><th>target identifier</th><th>target name</th><th>type</th><th>confidence</th><th>source</th><th>SrcEntity</th><th>TgtEntity</th><th>Score</th></tr><tr><td>str</td><td>str</td><td>str</td><td>str</td><td>str</td><td>str</td><td>str</td><td>str</td><td>f64</td><td>str</td><td>str</td><td>str</td><td>str</td></tr></thead><tbody><tr><td>&quot;DOID&quot;</td><td>&quot;DOID:0001816&quot;</td><td>&quot;angiosarcoma&quot;</td><td>&quot;skos:exactMatch&quot;</td><td>&quot;MESH&quot;</td><td>&quot;D006394&quot;</td><td>&quot;Hemangiosarcoma&quot;</td><td>&quot;semapv:SemanticSimilarityThres…</td><td>0.86</td><td>&quot;LogMap&quot;</td><td>&quot;http://purl.obolibrary.org/obo…</td><td>&quot;http://purl.bioontology.org/on…</td><td>&quot;1.0&quot;</td></tr><tr><td>&quot;DOID&quot;</td><td>&quot;DOID:0014667&quot;</td><td>&quot;disease of metabolism&quot;</td><td>&quot;skos:exactMatch&quot;</td><td>&quot;MESH&quot;</td><td>&quot;D008659&quot;</td><td>&quot;Metabolic Diseases&quot;</td><td>&quot;semapv:SemanticSimilarityThres…</td><td>0.81</td><td>&quot;LogMap&quot;</td><td>&quot;http://purl.obolibrary.org/obo…</td><td>&quot;http://purl.bioontology.org/on…</td><td>&quot;1.0&quot;</td></tr><tr><td>&quot;DOID&quot;</td><td>&quot;DOID:0040091&quot;</td><td>&quot;autoimmune pancreatitis&quot;</td><td>&quot;skos:exactMatch&quot;</td><td>&quot;MESH&quot;</td><td>&quot;D000081012&quot;</td><td>&quot;Autoimmune Pancreatitis&quot;</td><td>&quot;semapv:SemanticSimilarityThres…</td><td>0.77</td><td>&quot;LogMap&quot;</td><td>&quot;http://purl.obolibrary.org/obo…</td><td>&quot;http://purl.bioontology.org/on…</td><td>&quot;1.0&quot;</td></tr><tr><td>&quot;DOID&quot;</td><td>&quot;DOID:0050052&quot;</td><td>&quot;Rocky Mountain spotted fever&quot;</td><td>&quot;skos:exactMatch&quot;</td><td>&quot;MESH&quot;</td><td>&quot;D012373&quot;</td><td>&quot;Rocky Mountain Spotted Fever&quot;</td><td>&quot;semapv:SemanticSimilarityThres…</td><td>0.61</td><td>&quot;LogMap&quot;</td><td>&quot;http://purl.obolibrary.org/obo…</td><td>&quot;http://purl.bioontology.org/on…</td><td>&quot;1.0&quot;</td></tr><tr><td>&quot;DOID&quot;</td><td>&quot;DOID:0050061&quot;</td><td>&quot;erysipeloid&quot;</td><td>&quot;skos:exactMatch&quot;</td><td>&quot;MESH&quot;</td><td>&quot;D004887&quot;</td><td>&quot;Erysipeloid&quot;</td><td>&quot;semapv:SemanticSimilarityThres…</td><td>0.79</td><td>&quot;LogMap&quot;</td><td>&quot;http://purl.obolibrary.org/obo…</td><td>&quot;http://purl.bioontology.org/on…</td><td>&quot;1.0&quot;</td></tr></tbody></table></div>"
      ],
      "text/plain": [
       "shape: (5, 13)\n",
       "┌────────┬─────────────┬─────────────┬─────────────┬───┬────────┬─────────────┬────────────┬───────┐\n",
       "│ source ┆ source      ┆ source name ┆ relation    ┆ … ┆ source ┆ SrcEntity   ┆ TgtEntity  ┆ Score │\n",
       "│ prefix ┆ identifier  ┆ ---         ┆ ---         ┆   ┆ ---    ┆ ---         ┆ ---        ┆ ---   │\n",
       "│ ---    ┆ ---         ┆ str         ┆ str         ┆   ┆ str    ┆ str         ┆ str        ┆ str   │\n",
       "│ str    ┆ str         ┆             ┆             ┆   ┆        ┆             ┆            ┆       │\n",
       "╞════════╪═════════════╪═════════════╪═════════════╪═══╪════════╪═════════════╪════════════╪═══════╡\n",
       "│ DOID   ┆ DOID:000181 ┆ angiosarcom ┆ skos:exactM ┆ … ┆ LogMap ┆ http://purl ┆ http://pur ┆ 1.0   │\n",
       "│        ┆ 6           ┆ a           ┆ atch        ┆   ┆        ┆ .obolibrary ┆ l.bioontol ┆       │\n",
       "│        ┆             ┆             ┆             ┆   ┆        ┆ .org/obo…   ┆ ogy.org/on ┆       │\n",
       "│        ┆             ┆             ┆             ┆   ┆        ┆             ┆ …          ┆       │\n",
       "│ DOID   ┆ DOID:001466 ┆ disease of  ┆ skos:exactM ┆ … ┆ LogMap ┆ http://purl ┆ http://pur ┆ 1.0   │\n",
       "│        ┆ 7           ┆ metabolism  ┆ atch        ┆   ┆        ┆ .obolibrary ┆ l.bioontol ┆       │\n",
       "│        ┆             ┆             ┆             ┆   ┆        ┆ .org/obo…   ┆ ogy.org/on ┆       │\n",
       "│        ┆             ┆             ┆             ┆   ┆        ┆             ┆ …          ┆       │\n",
       "│ DOID   ┆ DOID:004009 ┆ autoimmune  ┆ skos:exactM ┆ … ┆ LogMap ┆ http://purl ┆ http://pur ┆ 1.0   │\n",
       "│        ┆ 1           ┆ pancreatiti ┆ atch        ┆   ┆        ┆ .obolibrary ┆ l.bioontol ┆       │\n",
       "│        ┆             ┆ s           ┆             ┆   ┆        ┆ .org/obo…   ┆ ogy.org/on ┆       │\n",
       "│        ┆             ┆             ┆             ┆   ┆        ┆             ┆ …          ┆       │\n",
       "│ DOID   ┆ DOID:005005 ┆ Rocky       ┆ skos:exactM ┆ … ┆ LogMap ┆ http://purl ┆ http://pur ┆ 1.0   │\n",
       "│        ┆ 2           ┆ Mountain    ┆ atch        ┆   ┆        ┆ .obolibrary ┆ l.bioontol ┆       │\n",
       "│        ┆             ┆ spotted     ┆             ┆   ┆        ┆ .org/obo…   ┆ ogy.org/on ┆       │\n",
       "│        ┆             ┆ fever       ┆             ┆   ┆        ┆             ┆ …          ┆       │\n",
       "│ DOID   ┆ DOID:005006 ┆ erysipeloid ┆ skos:exactM ┆ … ┆ LogMap ┆ http://purl ┆ http://pur ┆ 1.0   │\n",
       "│        ┆ 1           ┆             ┆ atch        ┆   ┆        ┆ .obolibrary ┆ l.bioontol ┆       │\n",
       "│        ┆             ┆             ┆             ┆   ┆        ┆ .org/obo…   ┆ ogy.org/on ┆       │\n",
       "│        ┆             ┆             ┆             ┆   ┆        ┆             ┆ …          ┆       │\n",
       "└────────┴─────────────┴─────────────┴─────────────┴───┴────────┴─────────────┴────────────┴───────┘"
      ]
     },
     "execution_count": 21,
     "metadata": {},
     "output_type": "execute_result"
    }
   ],
   "source": [
    "predictions_in_known_maps = predicted_maps.join(known_mappings, on=['source identifier', 'target identifier'], how='inner')\n",
    "print(f'out of {len(predicted_maps)} total mappings, there are {len(predictions_in_known_maps)} that is {len(predictions_in_known_maps)/len(predicted_maps)}')\n",
    "predictions_in_known_maps.head()"
   ]
  },
  {
   "cell_type": "markdown",
   "id": "f9a10df5",
   "metadata": {},
   "source": [
    "How many mappings are present directly from biomappings?"
   ]
  },
  {
   "cell_type": "code",
   "execution_count": 22,
   "id": "8f3d9c8c",
   "metadata": {},
   "outputs": [
    {
     "name": "stdout",
     "output_type": "stream",
     "text": [
      "out of 3115 total mappings, there are 56 that is 0.017977528089887642\n"
     ]
    },
    {
     "data": {
      "text/html": [
       "<div><style>\n",
       ".dataframe > thead > tr,\n",
       ".dataframe > tbody > tr {\n",
       "  text-align: right;\n",
       "  white-space: pre-wrap;\n",
       "}\n",
       "</style>\n",
       "<small>shape: (5, 20)</small><table border=\"1\" class=\"dataframe\"><thead><tr><th>source prefix</th><th>source identifier</th><th>source name</th><th>relation</th><th>target prefix</th><th>target identifier</th><th>target name</th><th>type</th><th>confidence</th><th>source</th><th>source prefix_right</th><th>source name_right</th><th>relation_right</th><th>target prefix_right</th><th>target name_right</th><th>type_right</th><th>source_right</th><th>prediction_type</th><th>prediction_source</th><th>prediction_confidence</th></tr><tr><td>str</td><td>str</td><td>str</td><td>str</td><td>str</td><td>str</td><td>str</td><td>str</td><td>f64</td><td>str</td><td>str</td><td>str</td><td>str</td><td>str</td><td>str</td><td>str</td><td>str</td><td>str</td><td>str</td><td>str</td></tr></thead><tbody><tr><td>&quot;DOID&quot;</td><td>&quot;DOID:0081082&quot;</td><td>&quot;acute myelomonocytic leukemia&quot;</td><td>&quot;skos:exactMatch&quot;</td><td>&quot;MESH&quot;</td><td>&quot;D015479&quot;</td><td>&quot;Leukemia, Myelomonocytic, Acut…</td><td>&quot;semapv:SemanticSimilarityThres…</td><td>0.89</td><td>&quot;LogMap&quot;</td><td>&quot;doid&quot;</td><td>&quot;acute myelomonocytic leukemia&quot;</td><td>&quot;skos:exactMatch&quot;</td><td>&quot;mesh&quot;</td><td>&quot;Leukemia, Myelomonocytic, Acut…</td><td>&quot;semapv:ManualMappingCuration&quot;</td><td>&quot;orcid:0000-0001-9439-5346&quot;</td><td>null</td><td>null</td><td>null</td></tr><tr><td>&quot;DOID&quot;</td><td>&quot;DOID:9675&quot;</td><td>&quot;pulmonary emphysema&quot;</td><td>&quot;skos:exactMatch&quot;</td><td>&quot;MESH&quot;</td><td>&quot;D011656&quot;</td><td>&quot;Pulmonary Emphysema&quot;</td><td>&quot;semapv:SemanticSimilarityThres…</td><td>0.87</td><td>&quot;LogMap&quot;</td><td>&quot;doid&quot;</td><td>&quot;pulmonary emphysema&quot;</td><td>&quot;skos:exactMatch&quot;</td><td>&quot;mesh&quot;</td><td>&quot;Pulmonary Emphysema&quot;</td><td>&quot;semapv:ManualMappingCuration&quot;</td><td>&quot;orcid:0000-0001-9439-5346&quot;</td><td>null</td><td>null</td><td>null</td></tr><tr><td>&quot;DOID&quot;</td><td>&quot;DOID:0081041&quot;</td><td>&quot;B-cell prolymphocytic leukemia&quot;</td><td>&quot;skos:exactMatch&quot;</td><td>&quot;MESH&quot;</td><td>&quot;D054403&quot;</td><td>&quot;Leukemia, Prolymphocytic, B-Ce…</td><td>&quot;semapv:SemanticSimilarityThres…</td><td>0.87</td><td>&quot;LogMap&quot;</td><td>&quot;doid&quot;</td><td>&quot;B-cell prolymphocytic leukemia&quot;</td><td>&quot;skos:exactMatch&quot;</td><td>&quot;mesh&quot;</td><td>&quot;Leukemia, Prolymphocytic, B-Ce…</td><td>&quot;semapv:ManualMappingCuration&quot;</td><td>&quot;orcid:0000-0001-9439-5346&quot;</td><td>null</td><td>null</td><td>null</td></tr><tr><td>&quot;DOID&quot;</td><td>&quot;DOID:0080940&quot;</td><td>&quot;hereditary angioedema type III&quot;</td><td>&quot;skos:exactMatch&quot;</td><td>&quot;MESH&quot;</td><td>&quot;D056828&quot;</td><td>&quot;Hereditary Angioedema Type III&quot;</td><td>&quot;semapv:SemanticSimilarityThres…</td><td>0.73</td><td>&quot;LogMap&quot;</td><td>&quot;doid&quot;</td><td>&quot;hereditary angioedema type III&quot;</td><td>&quot;skos:exactMatch&quot;</td><td>&quot;mesh&quot;</td><td>&quot;Hereditary Angioedema Type III&quot;</td><td>&quot;semapv:ManualMappingCuration&quot;</td><td>&quot;orcid:0000-0001-9439-5346&quot;</td><td>null</td><td>null</td><td>null</td></tr><tr><td>&quot;DOID&quot;</td><td>&quot;DOID:14453&quot;</td><td>&quot;farmer&#x27;s lung&quot;</td><td>&quot;skos:exactMatch&quot;</td><td>&quot;MESH&quot;</td><td>&quot;D005203&quot;</td><td>&quot;Farmer&#x27;s Lung&quot;</td><td>&quot;semapv:SemanticSimilarityThres…</td><td>0.96</td><td>&quot;LogMap&quot;</td><td>&quot;doid&quot;</td><td>&quot;farmer&#x27;s lung&quot;</td><td>&quot;skos:exactMatch&quot;</td><td>&quot;mesh&quot;</td><td>&quot;Farmer&#x27;s Lung&quot;</td><td>&quot;semapv:ManualMappingCuration&quot;</td><td>&quot;orcid:0000-0003-4423-4370&quot;</td><td>null</td><td>null</td><td>null</td></tr></tbody></table></div>"
      ],
      "text/plain": [
       "shape: (5, 20)\n",
       "┌───────────┬───────────┬───────────┬───────────┬───┬───────────┬───────────┬───────────┬──────────┐\n",
       "│ source    ┆ source    ┆ source    ┆ relation  ┆ … ┆ source_ri ┆ predictio ┆ predictio ┆ predicti │\n",
       "│ prefix    ┆ identifie ┆ name      ┆ ---       ┆   ┆ ght       ┆ n_type    ┆ n_source  ┆ on_confi │\n",
       "│ ---       ┆ r         ┆ ---       ┆ str       ┆   ┆ ---       ┆ ---       ┆ ---       ┆ dence    │\n",
       "│ str       ┆ ---       ┆ str       ┆           ┆   ┆ str       ┆ str       ┆ str       ┆ ---      │\n",
       "│           ┆ str       ┆           ┆           ┆   ┆           ┆           ┆           ┆ str      │\n",
       "╞═══════════╪═══════════╪═══════════╪═══════════╪═══╪═══════════╪═══════════╪═══════════╪══════════╡\n",
       "│ DOID      ┆ DOID:0081 ┆ acute mye ┆ skos:exac ┆ … ┆ orcid:000 ┆ null      ┆ null      ┆ null     │\n",
       "│           ┆ 082       ┆ lomonocyt ┆ tMatch    ┆   ┆ 0-0001-94 ┆           ┆           ┆          │\n",
       "│           ┆           ┆ ic        ┆           ┆   ┆ 39-5346   ┆           ┆           ┆          │\n",
       "│           ┆           ┆ leukemia  ┆           ┆   ┆           ┆           ┆           ┆          │\n",
       "│ DOID      ┆ DOID:9675 ┆ pulmonary ┆ skos:exac ┆ … ┆ orcid:000 ┆ null      ┆ null      ┆ null     │\n",
       "│           ┆           ┆ emphysema ┆ tMatch    ┆   ┆ 0-0001-94 ┆           ┆           ┆          │\n",
       "│           ┆           ┆           ┆           ┆   ┆ 39-5346   ┆           ┆           ┆          │\n",
       "│ DOID      ┆ DOID:0081 ┆ B-cell    ┆ skos:exac ┆ … ┆ orcid:000 ┆ null      ┆ null      ┆ null     │\n",
       "│           ┆ 041       ┆ prolympho ┆ tMatch    ┆   ┆ 0-0001-94 ┆           ┆           ┆          │\n",
       "│           ┆           ┆ cytic     ┆           ┆   ┆ 39-5346   ┆           ┆           ┆          │\n",
       "│           ┆           ┆ leukemia  ┆           ┆   ┆           ┆           ┆           ┆          │\n",
       "│ DOID      ┆ DOID:0080 ┆ hereditar ┆ skos:exac ┆ … ┆ orcid:000 ┆ null      ┆ null      ┆ null     │\n",
       "│           ┆ 940       ┆ y angioed ┆ tMatch    ┆   ┆ 0-0001-94 ┆           ┆           ┆          │\n",
       "│           ┆           ┆ ema type  ┆           ┆   ┆ 39-5346   ┆           ┆           ┆          │\n",
       "│           ┆           ┆ III       ┆           ┆   ┆           ┆           ┆           ┆          │\n",
       "│ DOID      ┆ DOID:1445 ┆ farmer's  ┆ skos:exac ┆ … ┆ orcid:000 ┆ null      ┆ null      ┆ null     │\n",
       "│           ┆ 3         ┆ lung      ┆ tMatch    ┆   ┆ 0-0003-44 ┆           ┆           ┆          │\n",
       "│           ┆           ┆           ┆           ┆   ┆ 23-4370   ┆           ┆           ┆          │\n",
       "└───────────┴───────────┴───────────┴───────────┴───┴───────────┴───────────┴───────────┴──────────┘"
      ]
     },
     "execution_count": 22,
     "metadata": {},
     "output_type": "execute_result"
    }
   ],
   "source": [
    "predictions_in_biomappings = predicted_maps.join(biomappings_maps, on=['source identifier', 'target identifier'], how='inner')\n",
    "print(f'out of {len(predicted_maps)} total mappings, there are {len(predictions_in_biomappings)} that is {len(predictions_in_biomappings)/len(predicted_maps)}')\n",
    "predictions_in_biomappings.head()"
   ]
  },
  {
   "cell_type": "markdown",
   "id": "3cbd1c74",
   "metadata": {},
   "source": [
    "Now lets look at the novel mappings, here we are defining a novel mapping as a map that involves classes that have no maps to them in the evidence"
   ]
  },
  {
   "cell_type": "code",
   "execution_count": 30,
   "id": "7372db01",
   "metadata": {},
   "outputs": [
    {
     "name": "stdout",
     "output_type": "stream",
     "text": [
      "out of 3115 total mappings, there are 223 that is 0.07158908507223113\n"
     ]
    },
    {
     "data": {
      "text/html": [
       "<div><style>\n",
       ".dataframe > thead > tr,\n",
       ".dataframe > tbody > tr {\n",
       "  text-align: right;\n",
       "  white-space: pre-wrap;\n",
       "}\n",
       "</style>\n",
       "<small>shape: (5, 10)</small><table border=\"1\" class=\"dataframe\"><thead><tr><th>source prefix</th><th>source identifier</th><th>source name</th><th>relation</th><th>target prefix</th><th>target identifier</th><th>target name</th><th>type</th><th>confidence</th><th>source</th></tr><tr><td>str</td><td>str</td><td>str</td><td>str</td><td>str</td><td>str</td><td>str</td><td>str</td><td>f64</td><td>str</td></tr></thead><tbody><tr><td>&quot;DOID&quot;</td><td>&quot;DOID:12369&quot;</td><td>&quot;prolapse of urethra&quot;</td><td>&quot;skos:exactMatch&quot;</td><td>&quot;MESH&quot;</td><td>&quot;D011391&quot;</td><td>&quot;Prolapse&quot;</td><td>&quot;semapv:SemanticSimilarityThres…</td><td>0.54</td><td>&quot;LogMap&quot;</td></tr><tr><td>&quot;DOID&quot;</td><td>&quot;DOID:0110859&quot;</td><td>&quot;polycystic kidney disease 2&quot;</td><td>&quot;skos:exactMatch&quot;</td><td>&quot;MESH&quot;</td><td>&quot;D016891&quot;</td><td>&quot;Polycystic Kidney, Autosomal D…</td><td>&quot;semapv:SemanticSimilarityThres…</td><td>0.78</td><td>&quot;LogMap&quot;</td></tr><tr><td>&quot;DOID&quot;</td><td>&quot;DOID:0081075&quot;</td><td>&quot;Marsili syndrome&quot;</td><td>&quot;skos:exactMatch&quot;</td><td>&quot;MESH&quot;</td><td>&quot;D000699&quot;</td><td>&quot;Pain Insensitivity, Congenital&quot;</td><td>&quot;semapv:SemanticSimilarityThres…</td><td>0.92</td><td>&quot;LogMap&quot;</td></tr><tr><td>&quot;DOID&quot;</td><td>&quot;DOID:9771&quot;</td><td>&quot;transient neonatal thrombocyto…</td><td>&quot;skos:exactMatch&quot;</td><td>&quot;MESH&quot;</td><td>&quot;D054098&quot;</td><td>&quot;Thrombocytopenia, Neonatal All…</td><td>&quot;semapv:SemanticSimilarityThres…</td><td>0.57</td><td>&quot;LogMap&quot;</td></tr><tr><td>&quot;DOID&quot;</td><td>&quot;DOID:0080522&quot;</td><td>&quot;anaplastic thyroid carcinoma&quot;</td><td>&quot;skos:exactMatch&quot;</td><td>&quot;MESH&quot;</td><td>&quot;D065646&quot;</td><td>&quot;Thyroid Carcinoma, Anaplastic&quot;</td><td>&quot;semapv:SemanticSimilarityThres…</td><td>0.81</td><td>&quot;LogMap&quot;</td></tr></tbody></table></div>"
      ],
      "text/plain": [
       "shape: (5, 10)\n",
       "┌────────┬────────────┬────────────┬────────────┬───┬────────────┬────────────┬───────────┬────────┐\n",
       "│ source ┆ source     ┆ source     ┆ relation   ┆ … ┆ target     ┆ type       ┆ confidenc ┆ source │\n",
       "│ prefix ┆ identifier ┆ name       ┆ ---        ┆   ┆ name       ┆ ---        ┆ e         ┆ ---    │\n",
       "│ ---    ┆ ---        ┆ ---        ┆ str        ┆   ┆ ---        ┆ str        ┆ ---       ┆ str    │\n",
       "│ str    ┆ str        ┆ str        ┆            ┆   ┆ str        ┆            ┆ f64       ┆        │\n",
       "╞════════╪════════════╪════════════╪════════════╪═══╪════════════╪════════════╪═══════════╪════════╡\n",
       "│ DOID   ┆ DOID:12369 ┆ prolapse   ┆ skos:exact ┆ … ┆ Prolapse   ┆ semapv:Sem ┆ 0.54      ┆ LogMap │\n",
       "│        ┆            ┆ of urethra ┆ Match      ┆   ┆            ┆ anticSimil ┆           ┆        │\n",
       "│        ┆            ┆            ┆            ┆   ┆            ┆ arityThres ┆           ┆        │\n",
       "│        ┆            ┆            ┆            ┆   ┆            ┆ …          ┆           ┆        │\n",
       "│ DOID   ┆ DOID:01108 ┆ polycystic ┆ skos:exact ┆ … ┆ Polycystic ┆ semapv:Sem ┆ 0.78      ┆ LogMap │\n",
       "│        ┆ 59         ┆ kidney     ┆ Match      ┆   ┆ Kidney,    ┆ anticSimil ┆           ┆        │\n",
       "│        ┆            ┆ disease 2  ┆            ┆   ┆ Autosomal  ┆ arityThres ┆           ┆        │\n",
       "│        ┆            ┆            ┆            ┆   ┆ D…         ┆ …          ┆           ┆        │\n",
       "│ DOID   ┆ DOID:00810 ┆ Marsili    ┆ skos:exact ┆ … ┆ Pain Insen ┆ semapv:Sem ┆ 0.92      ┆ LogMap │\n",
       "│        ┆ 75         ┆ syndrome   ┆ Match      ┆   ┆ sitivity,  ┆ anticSimil ┆           ┆        │\n",
       "│        ┆            ┆            ┆            ┆   ┆ Congenital ┆ arityThres ┆           ┆        │\n",
       "│        ┆            ┆            ┆            ┆   ┆            ┆ …          ┆           ┆        │\n",
       "│ DOID   ┆ DOID:9771  ┆ transient  ┆ skos:exact ┆ … ┆ Thrombocyt ┆ semapv:Sem ┆ 0.57      ┆ LogMap │\n",
       "│        ┆            ┆ neonatal   ┆ Match      ┆   ┆ openia,    ┆ anticSimil ┆           ┆        │\n",
       "│        ┆            ┆ thrombocyt ┆            ┆   ┆ Neonatal   ┆ arityThres ┆           ┆        │\n",
       "│        ┆            ┆ o…         ┆            ┆   ┆ All…       ┆ …          ┆           ┆        │\n",
       "│ DOID   ┆ DOID:00805 ┆ anaplastic ┆ skos:exact ┆ … ┆ Thyroid    ┆ semapv:Sem ┆ 0.81      ┆ LogMap │\n",
       "│        ┆ 22         ┆ thyroid    ┆ Match      ┆   ┆ Carcinoma, ┆ anticSimil ┆           ┆        │\n",
       "│        ┆            ┆ carcinoma  ┆            ┆   ┆ Anaplastic ┆ arityThres ┆           ┆        │\n",
       "│        ┆            ┆            ┆            ┆   ┆            ┆ …          ┆           ┆        │\n",
       "└────────┴────────────┴────────────┴────────────┴───┴────────────┴────────────┴───────────┴────────┘"
      ]
     },
     "execution_count": 30,
     "metadata": {},
     "output_type": "execute_result"
    }
   ],
   "source": [
    "novel_predictions = predicted_maps.join(evidence, on=['target identifier'], how='anti')\n",
    "novel_predictions = novel_predictions.join(evidence, on=['source identifier'], how='anti')\n",
    "\n",
    "print(f'out of {len(predicted_maps)} total mappings, there are {len(novel_predictions)} that is {len(novel_predictions)/len(predicted_maps)}')\n",
    "novel_predictions.head()"
   ]
  },
  {
   "cell_type": "markdown",
   "id": "e047ad00",
   "metadata": {},
   "source": [
    "# next check if any of the target or source identfiers are present in matches from either biomappings or the known mappings. "
   ]
  },
  {
   "cell_type": "code",
   "execution_count": 31,
   "id": "94b75a77",
   "metadata": {},
   "outputs": [
    {
     "name": "stdout",
     "output_type": "stream",
     "text": [
      "out of 3115 total mappings, there are 260 that is 0.08346709470304976\n"
     ]
    },
    {
     "data": {
      "text/html": [
       "<div><style>\n",
       ".dataframe > thead > tr,\n",
       ".dataframe > tbody > tr {\n",
       "  text-align: right;\n",
       "  white-space: pre-wrap;\n",
       "}\n",
       "</style>\n",
       "<small>shape: (5, 11)</small><table border=\"1\" class=\"dataframe\"><thead><tr><th>source prefix</th><th>source identifier</th><th>source name</th><th>relation</th><th>target prefix</th><th>target identifier</th><th>target name</th><th>type</th><th>confidence</th><th>source</th><th>source identifier_right</th></tr><tr><td>str</td><td>str</td><td>str</td><td>str</td><td>str</td><td>str</td><td>str</td><td>str</td><td>f64</td><td>str</td><td>str</td></tr></thead><tbody><tr><td>&quot;DOID&quot;</td><td>&quot;DOID:0110921&quot;</td><td>&quot;familial hemophagocytic lympho…</td><td>&quot;skos:exactMatch&quot;</td><td>&quot;MESH&quot;</td><td>&quot;D051359&quot;</td><td>&quot;Lymphohistiocytosis, Hemophago…</td><td>&quot;semapv:SemanticSimilarityThres…</td><td>0.67</td><td>&quot;LogMap&quot;</td><td>&quot;DOID:0050120&quot;</td></tr><tr><td>&quot;DOID&quot;</td><td>&quot;DOID:0110594&quot;</td><td>&quot;primary ciliary dyskinesia 1&quot;</td><td>&quot;skos:exactMatch&quot;</td><td>&quot;MESH&quot;</td><td>&quot;D007619&quot;</td><td>&quot;Kartagener Syndrome&quot;</td><td>&quot;semapv:SemanticSimilarityThres…</td><td>0.66</td><td>&quot;LogMap&quot;</td><td>&quot;DOID:0050144&quot;</td></tr><tr><td>&quot;DOID&quot;</td><td>&quot;DOID:0060941&quot;</td><td>&quot;interstitial lung disease 1&quot;</td><td>&quot;skos:exactMatch&quot;</td><td>&quot;MESH&quot;</td><td>&quot;D054990&quot;</td><td>&quot;Idiopathic Pulmonary Fibrosis&quot;</td><td>&quot;semapv:SemanticSimilarityThres…</td><td>0.74</td><td>&quot;LogMap&quot;</td><td>&quot;DOID:0050156&quot;</td></tr><tr><td>&quot;DOID&quot;</td><td>&quot;DOID:0050179&quot;</td><td>&quot;Powassan encephalitis&quot;</td><td>&quot;skos:exactMatch&quot;</td><td>&quot;MESH&quot;</td><td>&quot;D004675&quot;</td><td>&quot;Encephalitis, Tick-Borne&quot;</td><td>&quot;semapv:SemanticSimilarityThres…</td><td>0.54</td><td>&quot;LogMap&quot;</td><td>&quot;DOID:0050175&quot;</td></tr><tr><td>&quot;DOID&quot;</td><td>&quot;DOID:0110081&quot;</td><td>&quot;arrhythmogenic right ventricul…</td><td>&quot;skos:exactMatch&quot;</td><td>&quot;MESH&quot;</td><td>&quot;D019571&quot;</td><td>&quot;Arrhythmogenic Right Ventricul…</td><td>&quot;semapv:SemanticSimilarityThres…</td><td>0.85</td><td>&quot;LogMap&quot;</td><td>&quot;DOID:0050431&quot;</td></tr></tbody></table></div>"
      ],
      "text/plain": [
       "shape: (5, 11)\n",
       "┌────────┬────────────┬────────────┬────────────┬───┬────────────┬────────────┬────────┬───────────┐\n",
       "│ source ┆ source     ┆ source     ┆ relation   ┆ … ┆ type       ┆ confidence ┆ source ┆ source    │\n",
       "│ prefix ┆ identifier ┆ name       ┆ ---        ┆   ┆ ---        ┆ ---        ┆ ---    ┆ identifie │\n",
       "│ ---    ┆ ---        ┆ ---        ┆ str        ┆   ┆ str        ┆ f64        ┆ str    ┆ r_right   │\n",
       "│ str    ┆ str        ┆ str        ┆            ┆   ┆            ┆            ┆        ┆ ---       │\n",
       "│        ┆            ┆            ┆            ┆   ┆            ┆            ┆        ┆ str       │\n",
       "╞════════╪════════════╪════════════╪════════════╪═══╪════════════╪════════════╪════════╪═══════════╡\n",
       "│ DOID   ┆ DOID:01109 ┆ familial   ┆ skos:exact ┆ … ┆ semapv:Sem ┆ 0.67       ┆ LogMap ┆ DOID:0050 │\n",
       "│        ┆ 21         ┆ hemophagoc ┆ Match      ┆   ┆ anticSimil ┆            ┆        ┆ 120       │\n",
       "│        ┆            ┆ ytic       ┆            ┆   ┆ arityThres ┆            ┆        ┆           │\n",
       "│        ┆            ┆ lympho…    ┆            ┆   ┆ …          ┆            ┆        ┆           │\n",
       "│ DOID   ┆ DOID:01105 ┆ primary    ┆ skos:exact ┆ … ┆ semapv:Sem ┆ 0.66       ┆ LogMap ┆ DOID:0050 │\n",
       "│        ┆ 94         ┆ ciliary    ┆ Match      ┆   ┆ anticSimil ┆            ┆        ┆ 144       │\n",
       "│        ┆            ┆ dyskinesia ┆            ┆   ┆ arityThres ┆            ┆        ┆           │\n",
       "│        ┆            ┆ 1          ┆            ┆   ┆ …          ┆            ┆        ┆           │\n",
       "│ DOID   ┆ DOID:00609 ┆ interstiti ┆ skos:exact ┆ … ┆ semapv:Sem ┆ 0.74       ┆ LogMap ┆ DOID:0050 │\n",
       "│        ┆ 41         ┆ al lung    ┆ Match      ┆   ┆ anticSimil ┆            ┆        ┆ 156       │\n",
       "│        ┆            ┆ disease 1  ┆            ┆   ┆ arityThres ┆            ┆        ┆           │\n",
       "│        ┆            ┆            ┆            ┆   ┆ …          ┆            ┆        ┆           │\n",
       "│ DOID   ┆ DOID:00501 ┆ Powassan   ┆ skos:exact ┆ … ┆ semapv:Sem ┆ 0.54       ┆ LogMap ┆ DOID:0050 │\n",
       "│        ┆ 79         ┆ encephalit ┆ Match      ┆   ┆ anticSimil ┆            ┆        ┆ 175       │\n",
       "│        ┆            ┆ is         ┆            ┆   ┆ arityThres ┆            ┆        ┆           │\n",
       "│        ┆            ┆            ┆            ┆   ┆ …          ┆            ┆        ┆           │\n",
       "│ DOID   ┆ DOID:01100 ┆ arrhythmog ┆ skos:exact ┆ … ┆ semapv:Sem ┆ 0.85       ┆ LogMap ┆ DOID:0050 │\n",
       "│        ┆ 81         ┆ enic right ┆ Match      ┆   ┆ anticSimil ┆            ┆        ┆ 431       │\n",
       "│        ┆            ┆ ventricul… ┆            ┆   ┆ arityThres ┆            ┆        ┆           │\n",
       "│        ┆            ┆            ┆            ┆   ┆ …          ┆            ┆        ┆           │\n",
       "└────────┴────────────┴────────────┴────────────┴───┴────────────┴────────────┴────────┴───────────┘"
      ]
     },
     "execution_count": 31,
     "metadata": {},
     "output_type": "execute_result"
    }
   ],
   "source": [
    "targets_mapped_wrong = predicted_maps.join(evidence, on=['target identifier'], how='inner')\n",
    "targets_mapped_wrong = targets_mapped_wrong.join(evidence, on=['source identifier'], how='anti')\n",
    "\n",
    "print(f'out of {len(predicted_maps)} total mappings, there are {len(targets_mapped_wrong)} that is {len(targets_mapped_wrong)/len(predicted_maps)}')\n",
    "targets_mapped_wrong.head()"
   ]
  },
  {
   "cell_type": "code",
   "execution_count": 32,
   "id": "99af392b",
   "metadata": {},
   "outputs": [
    {
     "name": "stdout",
     "output_type": "stream",
     "text": [
      "out of 3115 total mappings, there are 168 that is 0.05393258426966292\n"
     ]
    },
    {
     "data": {
      "text/html": [
       "<div><style>\n",
       ".dataframe > thead > tr,\n",
       ".dataframe > tbody > tr {\n",
       "  text-align: right;\n",
       "  white-space: pre-wrap;\n",
       "}\n",
       "</style>\n",
       "<small>shape: (5, 11)</small><table border=\"1\" class=\"dataframe\"><thead><tr><th>source prefix</th><th>source identifier</th><th>source name</th><th>relation</th><th>target prefix</th><th>target identifier</th><th>target name</th><th>type</th><th>confidence</th><th>source</th><th>target identifier_right</th></tr><tr><td>str</td><td>str</td><td>str</td><td>str</td><td>str</td><td>str</td><td>str</td><td>str</td><td>f64</td><td>str</td><td>str</td></tr></thead><tbody><tr><td>&quot;DOID&quot;</td><td>&quot;DOID:0050428&quot;</td><td>&quot;nonepidermolytic palmoplantar …</td><td>&quot;skos:exactMatch&quot;</td><td>&quot;MESH&quot;</td><td>&quot;D015776&quot;</td><td>&quot;Keratoderma, Palmoplantar, Dif…</td><td>&quot;semapv:SemanticSimilarityThres…</td><td>0.71</td><td>&quot;LogMap&quot;</td><td>&quot;C563422&quot;</td></tr><tr><td>&quot;DOID&quot;</td><td>&quot;DOID:0050445&quot;</td><td>&quot;X-linked hypophosphatemic rick…</td><td>&quot;skos:exactMatch&quot;</td><td>&quot;MESH&quot;</td><td>&quot;D063730&quot;</td><td>&quot;Rickets, Hypophosphatemic&quot;</td><td>&quot;semapv:SemanticSimilarityThres…</td><td>0.89</td><td>&quot;LogMap&quot;</td><td>&quot;D053098&quot;</td></tr><tr><td>&quot;DOID&quot;</td><td>&quot;DOID:0050597&quot;</td><td>&quot;intestinal schistosomiasis&quot;</td><td>&quot;skos:exactMatch&quot;</td><td>&quot;MESH&quot;</td><td>&quot;D012555&quot;</td><td>&quot;Schistosomiasis mansoni&quot;</td><td>&quot;semapv:SemanticSimilarityThres…</td><td>0.82</td><td>&quot;LogMap&quot;</td><td>&quot;D012554&quot;</td></tr><tr><td>&quot;DOID&quot;</td><td>&quot;DOID:0050773&quot;</td><td>&quot;paraganglioma&quot;</td><td>&quot;skos:exactMatch&quot;</td><td>&quot;MESH&quot;</td><td>&quot;D010236&quot;</td><td>&quot;Paraganglioma, Extra-Adrenal&quot;</td><td>&quot;semapv:SemanticSimilarityThres…</td><td>0.71</td><td>&quot;LogMap&quot;</td><td>&quot;D010235&quot;</td></tr><tr><td>&quot;DOID&quot;</td><td>&quot;DOID:0050835&quot;</td><td>&quot;generalized dystonia&quot;</td><td>&quot;skos:exactMatch&quot;</td><td>&quot;MESH&quot;</td><td>&quot;D020821&quot;</td><td>&quot;Dystonic Disorders&quot;</td><td>&quot;semapv:SemanticSimilarityThres…</td><td>0.75</td><td>&quot;LogMap&quot;</td><td>&quot;C538001&quot;</td></tr></tbody></table></div>"
      ],
      "text/plain": [
       "shape: (5, 11)\n",
       "┌────────┬────────────┬────────────┬────────────┬───┬────────────┬────────────┬────────┬───────────┐\n",
       "│ source ┆ source     ┆ source     ┆ relation   ┆ … ┆ type       ┆ confidence ┆ source ┆ target    │\n",
       "│ prefix ┆ identifier ┆ name       ┆ ---        ┆   ┆ ---        ┆ ---        ┆ ---    ┆ identifie │\n",
       "│ ---    ┆ ---        ┆ ---        ┆ str        ┆   ┆ str        ┆ f64        ┆ str    ┆ r_right   │\n",
       "│ str    ┆ str        ┆ str        ┆            ┆   ┆            ┆            ┆        ┆ ---       │\n",
       "│        ┆            ┆            ┆            ┆   ┆            ┆            ┆        ┆ str       │\n",
       "╞════════╪════════════╪════════════╪════════════╪═══╪════════════╪════════════╪════════╪═══════════╡\n",
       "│ DOID   ┆ DOID:00504 ┆ nonepiderm ┆ skos:exact ┆ … ┆ semapv:Sem ┆ 0.71       ┆ LogMap ┆ C563422   │\n",
       "│        ┆ 28         ┆ olytic pal ┆ Match      ┆   ┆ anticSimil ┆            ┆        ┆           │\n",
       "│        ┆            ┆ moplantar  ┆            ┆   ┆ arityThres ┆            ┆        ┆           │\n",
       "│        ┆            ┆ …          ┆            ┆   ┆ …          ┆            ┆        ┆           │\n",
       "│ DOID   ┆ DOID:00504 ┆ X-linked   ┆ skos:exact ┆ … ┆ semapv:Sem ┆ 0.89       ┆ LogMap ┆ D053098   │\n",
       "│        ┆ 45         ┆ hypophosph ┆ Match      ┆   ┆ anticSimil ┆            ┆        ┆           │\n",
       "│        ┆            ┆ atemic     ┆            ┆   ┆ arityThres ┆            ┆        ┆           │\n",
       "│        ┆            ┆ rick…      ┆            ┆   ┆ …          ┆            ┆        ┆           │\n",
       "│ DOID   ┆ DOID:00505 ┆ intestinal ┆ skos:exact ┆ … ┆ semapv:Sem ┆ 0.82       ┆ LogMap ┆ D012554   │\n",
       "│        ┆ 97         ┆ schistosom ┆ Match      ┆   ┆ anticSimil ┆            ┆        ┆           │\n",
       "│        ┆            ┆ iasis      ┆            ┆   ┆ arityThres ┆            ┆        ┆           │\n",
       "│        ┆            ┆            ┆            ┆   ┆ …          ┆            ┆        ┆           │\n",
       "│ DOID   ┆ DOID:00507 ┆ paragangli ┆ skos:exact ┆ … ┆ semapv:Sem ┆ 0.71       ┆ LogMap ┆ D010235   │\n",
       "│        ┆ 73         ┆ oma        ┆ Match      ┆   ┆ anticSimil ┆            ┆        ┆           │\n",
       "│        ┆            ┆            ┆            ┆   ┆ arityThres ┆            ┆        ┆           │\n",
       "│        ┆            ┆            ┆            ┆   ┆ …          ┆            ┆        ┆           │\n",
       "│ DOID   ┆ DOID:00508 ┆ generalize ┆ skos:exact ┆ … ┆ semapv:Sem ┆ 0.75       ┆ LogMap ┆ C538001   │\n",
       "│        ┆ 35         ┆ d dystonia ┆ Match      ┆   ┆ anticSimil ┆            ┆        ┆           │\n",
       "│        ┆            ┆            ┆            ┆   ┆ arityThres ┆            ┆        ┆           │\n",
       "│        ┆            ┆            ┆            ┆   ┆ …          ┆            ┆        ┆           │\n",
       "└────────┴────────────┴────────────┴────────────┴───┴────────────┴────────────┴────────┴───────────┘"
      ]
     },
     "execution_count": 32,
     "metadata": {},
     "output_type": "execute_result"
    }
   ],
   "source": [
    "sources_mapped_wrong = predicted_maps.join(evidence, on=['source identifier'], how='inner')\n",
    "sources_mapped_wrong = sources_mapped_wrong.join(evidence, on=['target identifier'], how='anti')\n",
    "\n",
    "print(f'out of {len(predicted_maps)} total mappings, there are {len(sources_mapped_wrong)} that is {len(sources_mapped_wrong)/len(predicted_maps)}')\n",
    "sources_mapped_wrong.head()"
   ]
  },
  {
   "cell_type": "code",
   "execution_count": 33,
   "id": "c8d2ba7c",
   "metadata": {},
   "outputs": [
    {
     "data": {
      "text/html": [
       "<div><style>\n",
       ".dataframe > thead > tr,\n",
       ".dataframe > tbody > tr {\n",
       "  text-align: right;\n",
       "  white-space: pre-wrap;\n",
       "}\n",
       "</style>\n",
       "<small>shape: (3_993, 5)</small><table border=\"1\" class=\"dataframe\"><thead><tr><th>SrcEntity</th><th>TgtEntity</th><th>Score</th><th>source identifier</th><th>target identifier</th></tr><tr><td>str</td><td>str</td><td>str</td><td>str</td><td>str</td></tr></thead><tbody><tr><td>&quot;http://purl.obolibrary.org/obo…</td><td>&quot;http://purl.bioontology.org/on…</td><td>&quot;1.0&quot;</td><td>&quot;DOID:0001816&quot;</td><td>&quot;D006394&quot;</td></tr><tr><td>&quot;http://purl.obolibrary.org/obo…</td><td>&quot;http://purl.bioontology.org/on…</td><td>&quot;1.0&quot;</td><td>&quot;DOID:0014667&quot;</td><td>&quot;D008659&quot;</td></tr><tr><td>&quot;http://purl.obolibrary.org/obo…</td><td>&quot;http://purl.bioontology.org/on…</td><td>&quot;1.0&quot;</td><td>&quot;DOID:0040091&quot;</td><td>&quot;D000081012&quot;</td></tr><tr><td>&quot;http://purl.obolibrary.org/obo…</td><td>&quot;http://purl.bioontology.org/on…</td><td>&quot;1.0&quot;</td><td>&quot;DOID:0050052&quot;</td><td>&quot;D012373&quot;</td></tr><tr><td>&quot;http://purl.obolibrary.org/obo…</td><td>&quot;http://purl.bioontology.org/on…</td><td>&quot;1.0&quot;</td><td>&quot;DOID:0050061&quot;</td><td>&quot;D004887&quot;</td></tr><tr><td>&hellip;</td><td>&hellip;</td><td>&hellip;</td><td>&hellip;</td><td>&hellip;</td></tr><tr><td>&quot;http://purl.obolibrary.org/obo…</td><td>&quot;http://purl.bioontology.org/on…</td><td>&quot;1.0&quot;</td><td>&quot;DOID:998&quot;</td><td>&quot;D016603&quot;</td></tr><tr><td>&quot;http://purl.obolibrary.org/obo…</td><td>&quot;http://purl.bioontology.org/on…</td><td>&quot;1.0&quot;</td><td>&quot;DOID:9986&quot;</td><td>&quot;C537131&quot;</td></tr><tr><td>&quot;http://purl.obolibrary.org/obo…</td><td>&quot;http://purl.bioontology.org/on…</td><td>&quot;1.0&quot;</td><td>&quot;DOID:9988&quot;</td><td>&quot;D009494&quot;</td></tr><tr><td>&quot;http://purl.obolibrary.org/obo…</td><td>&quot;http://purl.bioontology.org/on…</td><td>&quot;1.0&quot;</td><td>&quot;DOID:999&quot;</td><td>&quot;D004802&quot;</td></tr><tr><td>&quot;http://purl.obolibrary.org/obo…</td><td>&quot;http://purl.bioontology.org/on…</td><td>&quot;1.0&quot;</td><td>&quot;DOID:9993&quot;</td><td>&quot;D007003&quot;</td></tr></tbody></table></div>"
      ],
      "text/plain": [
       "shape: (3_993, 5)\n",
       "┌─────────────────────────┬────────────────────────┬───────┬───────────────────┬───────────────────┐\n",
       "│ SrcEntity               ┆ TgtEntity              ┆ Score ┆ source identifier ┆ target identifier │\n",
       "│ ---                     ┆ ---                    ┆ ---   ┆ ---               ┆ ---               │\n",
       "│ str                     ┆ str                    ┆ str   ┆ str               ┆ str               │\n",
       "╞═════════════════════════╪════════════════════════╪═══════╪═══════════════════╪═══════════════════╡\n",
       "│ http://purl.obolibrary. ┆ http://purl.bioontolog ┆ 1.0   ┆ DOID:0001816      ┆ D006394           │\n",
       "│ org/obo…                ┆ y.org/on…              ┆       ┆                   ┆                   │\n",
       "│ http://purl.obolibrary. ┆ http://purl.bioontolog ┆ 1.0   ┆ DOID:0014667      ┆ D008659           │\n",
       "│ org/obo…                ┆ y.org/on…              ┆       ┆                   ┆                   │\n",
       "│ http://purl.obolibrary. ┆ http://purl.bioontolog ┆ 1.0   ┆ DOID:0040091      ┆ D000081012        │\n",
       "│ org/obo…                ┆ y.org/on…              ┆       ┆                   ┆                   │\n",
       "│ http://purl.obolibrary. ┆ http://purl.bioontolog ┆ 1.0   ┆ DOID:0050052      ┆ D012373           │\n",
       "│ org/obo…                ┆ y.org/on…              ┆       ┆                   ┆                   │\n",
       "│ http://purl.obolibrary. ┆ http://purl.bioontolog ┆ 1.0   ┆ DOID:0050061      ┆ D004887           │\n",
       "│ org/obo…                ┆ y.org/on…              ┆       ┆                   ┆                   │\n",
       "│ …                       ┆ …                      ┆ …     ┆ …                 ┆ …                 │\n",
       "│ http://purl.obolibrary. ┆ http://purl.bioontolog ┆ 1.0   ┆ DOID:998          ┆ D016603           │\n",
       "│ org/obo…                ┆ y.org/on…              ┆       ┆                   ┆                   │\n",
       "│ http://purl.obolibrary. ┆ http://purl.bioontolog ┆ 1.0   ┆ DOID:9986         ┆ C537131           │\n",
       "│ org/obo…                ┆ y.org/on…              ┆       ┆                   ┆                   │\n",
       "│ http://purl.obolibrary. ┆ http://purl.bioontolog ┆ 1.0   ┆ DOID:9988         ┆ D009494           │\n",
       "│ org/obo…                ┆ y.org/on…              ┆       ┆                   ┆                   │\n",
       "│ http://purl.obolibrary. ┆ http://purl.bioontolog ┆ 1.0   ┆ DOID:999          ┆ D004802           │\n",
       "│ org/obo…                ┆ y.org/on…              ┆       ┆                   ┆                   │\n",
       "│ http://purl.obolibrary. ┆ http://purl.bioontolog ┆ 1.0   ┆ DOID:9993         ┆ D007003           │\n",
       "│ org/obo…                ┆ y.org/on…              ┆       ┆                   ┆                   │\n",
       "└─────────────────────────┴────────────────────────┴───────┴───────────────────┴───────────────────┘"
      ]
     },
     "execution_count": 33,
     "metadata": {},
     "output_type": "execute_result"
    }
   ],
   "source": [
    "known_mappings"
   ]
  }
 ],
 "metadata": {
  "kernelspec": {
   "display_name": "mapnet",
   "language": "python",
   "name": "python3"
  },
  "language_info": {
   "codemirror_mode": {
    "name": "ipython",
    "version": 3
   },
   "file_extension": ".py",
   "mimetype": "text/x-python",
   "name": "python",
   "nbconvert_exporter": "python",
   "pygments_lexer": "ipython3",
   "version": "3.10.12"
  }
 },
 "nbformat": 4,
 "nbformat_minor": 5
}
