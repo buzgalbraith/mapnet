{
 "cells": [
  {
   "cell_type": "markdown",
   "id": "e146b4a7",
   "metadata": {},
   "source": [
    "# going to analyze the results of logmap matching\n",
    "## load in data frames and packages"
   ]
  },
  {
   "cell_type": "code",
   "execution_count": 1,
   "id": "71131c43",
   "metadata": {},
   "outputs": [],
   "source": [
    "import polars as pl\n",
    "from mapnet.utils import format_mappings, load_known_mappings_df, load_biomappings_df, get_novel_mappings\n",
    "import obonet\n",
    "from indra.databases import mesh_client\n",
    "import os "
   ]
  },
  {
   "cell_type": "markdown",
   "id": "e8ba23df",
   "metadata": {},
   "source": [
    "load the known mappings if they are not already present. "
   ]
  },
  {
   "cell_type": "code",
   "execution_count": null,
   "id": "4d9742c9",
   "metadata": {},
   "outputs": [
    {
     "name": "stdout",
     "output_type": "stream",
     "text": [
      "Please enter the maximum memory located to JVM [8g]:\n"
     ]
    },
    {
     "name": "stderr",
     "output_type": "stream",
     "text": [
      "INFO: [2025-04-15 16:10:53] deeponto - 16g maximum memory allocated to JVM.\n",
      "INFO: [2025-04-15 16:10:53] deeponto - JVM started successfully.\n",
      "INFO: [2025-04-15 16:10:55] datasets - PyTorch version 2.6.0 available.\n",
      "INFO: [2025-04-15 16:10:55] datasets - Polars version 1.27.1 available.\n"
     ]
    },
    {
     "name": "stdout",
     "output_type": "stream",
     "text": [
      "filtering supplemental terms \n"
     ]
    },
    {
     "name": "stderr",
     "output_type": "stream",
     "text": [
      "INFO: [2025-04-15 16:13:15] root - None pruning algorithm has been applied.\n",
      "INFO: [2025-04-15 16:13:15] root - Save the pruned ontology file to resources/mesh_primary.owl.\n"
     ]
    }
   ],
   "source": [
    "if os.path.exists(\"../../knownMaps/doid_to_mesh_provided_maps.tsv\"):\n",
    "    from mapnet.bertmap.example import data_setup\n",
    "    os.chdir('../..')\n",
    "    data_setup()\n",
    "    os.chdir(\"./mapnet/logmap-matcher/\")\n"
   ]
  },
  {
   "cell_type": "code",
   "execution_count": 2,
   "id": "85395b0e",
   "metadata": {},
   "outputs": [
    {
     "name": "stderr",
     "output_type": "stream",
     "text": [
      "INFO: [2025-04-15 16:14:48] root - Will decode content from https://raw.githubusercontent.com/DiseaseOntology/HumanDiseaseOntology/main/src/ontology/HumanDO.obo using utf-8 charset.\n"
     ]
    }
   ],
   "source": [
    "def permissive_map(x):\n",
    "    \"\"\"a function to get the name of a given DOID entity, will return 'NO NAME FOUND', if the entity does not exist.\"\"\"\n",
    "    try:\n",
    "        return g.nodes[x][\"name\"]\n",
    "    except:\n",
    "        return \"NO NAME FOUND\"\n",
    "\n",
    "\n",
    "g = obonet.read_obo(\n",
    "    \"https://raw.githubusercontent.com/DiseaseOntology/\"\n",
    "    \"HumanDiseaseOntology/main/src/ontology/HumanDO.obo\"\n",
    ")\n",
    "maps_path = \"../../mapnet/logmap-matcher/output/logmap2_mappings.tsv\"\n",
    "raw_maps = pl.read_csv(\n",
    "    maps_path,\n",
    "    separator=\"\\t\",\n",
    "    has_header=False,\n",
    "    new_columns=['SrcEntity', 'TgtEntity', 'Score'],\n",
    ")\n",
    "predicted_maps = format_mappings(\n",
    "    df=raw_maps,\n",
    "    source_prefix=\"DOID\",\n",
    "    target_prefix=\"MESH\",\n",
    "    matching_source=\"LogMap\",\n",
    "        source_name_func=permissive_map,\n",
    "        target_name_func=mesh_client.get_mesh_name,\n",
    ")\n",
    "\n",
    "known_mappings = load_known_mappings_df(known_mappings_path=\"../../knownMaps/doid_to_mesh_provided_maps.tsv\",\n",
    "        source_name_func=permissive_map,\n",
    "        target_name_func=mesh_client.get_mesh_name,)\n",
    "\n",
    "biomappings_maps = load_biomappings_df(\n",
    "    source_prefix=\"DOID\",\n",
    "    target_prefix=\"MESH\",\n",
    ")\n",
    "evidence = known_mappings.vstack(biomappings_maps)\n",
    "\n"
   ]
  },
  {
   "cell_type": "markdown",
   "id": "653e3d11",
   "metadata": {},
   "source": [
    "## inspect number of cases where a predicted map exactly matches a map we have seen in the evidence table"
   ]
  },
  {
   "cell_type": "code",
   "execution_count": 3,
   "id": "89617e85",
   "metadata": {},
   "outputs": [
    {
     "name": "stdout",
     "output_type": "stream",
     "text": [
      "out of 3107 total mappings, there are 2623 that is 0.8442227228838107\n"
     ]
    },
    {
     "data": {
      "text/html": [
       "<div><style>\n",
       ".dataframe > thead > tr,\n",
       ".dataframe > tbody > tr {\n",
       "  text-align: right;\n",
       "  white-space: pre-wrap;\n",
       "}\n",
       "</style>\n",
       "<small>shape: (5, 12)</small><table border=\"1\" class=\"dataframe\"><thead><tr><th>source prefix</th><th>source identifier</th><th>source name</th><th>relation</th><th>target prefix</th><th>target identifier</th><th>target name</th><th>type</th><th>confidence</th><th>source</th><th>source name_right</th><th>target name_right</th></tr><tr><td>str</td><td>str</td><td>str</td><td>str</td><td>str</td><td>str</td><td>str</td><td>str</td><td>f64</td><td>str</td><td>str</td><td>str</td></tr></thead><tbody><tr><td>&quot;DOID&quot;</td><td>&quot;DOID:0001816&quot;</td><td>&quot;angiosarcoma&quot;</td><td>&quot;skos:exactMatch&quot;</td><td>&quot;MESH&quot;</td><td>&quot;D006394&quot;</td><td>&quot;Hemangiosarcoma&quot;</td><td>&quot;semapv:SemanticSimilarityThres…</td><td>0.86</td><td>&quot;LogMap&quot;</td><td>&quot;angiosarcoma&quot;</td><td>&quot;Hemangiosarcoma&quot;</td></tr><tr><td>&quot;DOID&quot;</td><td>&quot;DOID:0014667&quot;</td><td>&quot;disease of metabolism&quot;</td><td>&quot;skos:exactMatch&quot;</td><td>&quot;MESH&quot;</td><td>&quot;D008659&quot;</td><td>&quot;Metabolic Diseases&quot;</td><td>&quot;semapv:SemanticSimilarityThres…</td><td>0.78</td><td>&quot;LogMap&quot;</td><td>&quot;disease of metabolism&quot;</td><td>&quot;Metabolic Diseases&quot;</td></tr><tr><td>&quot;DOID&quot;</td><td>&quot;DOID:0040091&quot;</td><td>&quot;autoimmune pancreatitis&quot;</td><td>&quot;skos:exactMatch&quot;</td><td>&quot;MESH&quot;</td><td>&quot;D000081012&quot;</td><td>&quot;Autoimmune Pancreatitis&quot;</td><td>&quot;semapv:SemanticSimilarityThres…</td><td>0.77</td><td>&quot;LogMap&quot;</td><td>&quot;autoimmune pancreatitis&quot;</td><td>&quot;Autoimmune Pancreatitis&quot;</td></tr><tr><td>&quot;DOID&quot;</td><td>&quot;DOID:0050052&quot;</td><td>&quot;Rocky Mountain spotted fever&quot;</td><td>&quot;skos:exactMatch&quot;</td><td>&quot;MESH&quot;</td><td>&quot;D012373&quot;</td><td>&quot;Rocky Mountain Spotted Fever&quot;</td><td>&quot;semapv:SemanticSimilarityThres…</td><td>0.61</td><td>&quot;LogMap&quot;</td><td>&quot;Rocky Mountain spotted fever&quot;</td><td>&quot;Rocky Mountain Spotted Fever&quot;</td></tr><tr><td>&quot;DOID&quot;</td><td>&quot;DOID:0050061&quot;</td><td>&quot;erysipeloid&quot;</td><td>&quot;skos:exactMatch&quot;</td><td>&quot;MESH&quot;</td><td>&quot;D004887&quot;</td><td>&quot;Erysipeloid&quot;</td><td>&quot;semapv:SemanticSimilarityThres…</td><td>0.79</td><td>&quot;LogMap&quot;</td><td>&quot;erysipeloid&quot;</td><td>&quot;Erysipeloid&quot;</td></tr></tbody></table></div>"
      ],
      "text/plain": [
       "shape: (5, 12)\n",
       "┌────────┬────────────┬────────────┬────────────┬───┬────────────┬────────┬────────────┬───────────┐\n",
       "│ source ┆ source     ┆ source     ┆ relation   ┆ … ┆ confidence ┆ source ┆ source     ┆ target    │\n",
       "│ prefix ┆ identifier ┆ name       ┆ ---        ┆   ┆ ---        ┆ ---    ┆ name_right ┆ name_righ │\n",
       "│ ---    ┆ ---        ┆ ---        ┆ str        ┆   ┆ f64        ┆ str    ┆ ---        ┆ t         │\n",
       "│ str    ┆ str        ┆ str        ┆            ┆   ┆            ┆        ┆ str        ┆ ---       │\n",
       "│        ┆            ┆            ┆            ┆   ┆            ┆        ┆            ┆ str       │\n",
       "╞════════╪════════════╪════════════╪════════════╪═══╪════════════╪════════╪════════════╪═══════════╡\n",
       "│ DOID   ┆ DOID:00018 ┆ angiosarco ┆ skos:exact ┆ … ┆ 0.86       ┆ LogMap ┆ angiosarco ┆ Hemangios │\n",
       "│        ┆ 16         ┆ ma         ┆ Match      ┆   ┆            ┆        ┆ ma         ┆ arcoma    │\n",
       "│ DOID   ┆ DOID:00146 ┆ disease of ┆ skos:exact ┆ … ┆ 0.78       ┆ LogMap ┆ disease of ┆ Metabolic │\n",
       "│        ┆ 67         ┆ metabolism ┆ Match      ┆   ┆            ┆        ┆ metabolism ┆ Diseases  │\n",
       "│ DOID   ┆ DOID:00400 ┆ autoimmune ┆ skos:exact ┆ … ┆ 0.77       ┆ LogMap ┆ autoimmune ┆ Autoimmun │\n",
       "│        ┆ 91         ┆ pancreatit ┆ Match      ┆   ┆            ┆        ┆ pancreatit ┆ e Pancrea │\n",
       "│        ┆            ┆ is         ┆            ┆   ┆            ┆        ┆ is         ┆ titis     │\n",
       "│ DOID   ┆ DOID:00500 ┆ Rocky      ┆ skos:exact ┆ … ┆ 0.61       ┆ LogMap ┆ Rocky      ┆ Rocky     │\n",
       "│        ┆ 52         ┆ Mountain   ┆ Match      ┆   ┆            ┆        ┆ Mountain   ┆ Mountain  │\n",
       "│        ┆            ┆ spotted    ┆            ┆   ┆            ┆        ┆ spotted    ┆ Spotted   │\n",
       "│        ┆            ┆ fever      ┆            ┆   ┆            ┆        ┆ fever      ┆ Fever     │\n",
       "│ DOID   ┆ DOID:00500 ┆ erysipeloi ┆ skos:exact ┆ … ┆ 0.79       ┆ LogMap ┆ erysipeloi ┆ Erysipelo │\n",
       "│        ┆ 61         ┆ d          ┆ Match      ┆   ┆            ┆        ┆ d          ┆ id        │\n",
       "└────────┴────────────┴────────────┴────────────┴───┴────────────┴────────┴────────────┴───────────┘"
      ]
     },
     "execution_count": 3,
     "metadata": {},
     "output_type": "execute_result"
    }
   ],
   "source": [
    "predictions_in_known_maps = predicted_maps.join(evidence, on=['source identifier', 'target identifier'], how='inner')\n",
    "print(f'out of {len(predicted_maps)} total mappings, there are {len(predictions_in_known_maps)} that is {len(predictions_in_known_maps)/len(predicted_maps)}')\n",
    "predictions_in_known_maps.head()"
   ]
  },
  {
   "cell_type": "markdown",
   "id": "3cbd1c74",
   "metadata": {},
   "source": [
    "## Now lets look at the novel mappings, here we are defining a novel mapping as a map that involves classes that have no maps to them in the evidence"
   ]
  },
  {
   "cell_type": "code",
   "execution_count": 4,
   "id": "7372db01",
   "metadata": {},
   "outputs": [
    {
     "name": "stdout",
     "output_type": "stream",
     "text": [
      "out of 3107 total mappings, there are 148 that is 0.04763437399420663\n"
     ]
    },
    {
     "data": {
      "text/html": [
       "<div><style>\n",
       ".dataframe > thead > tr,\n",
       ".dataframe > tbody > tr {\n",
       "  text-align: right;\n",
       "  white-space: pre-wrap;\n",
       "}\n",
       "</style>\n",
       "<small>shape: (5, 10)</small><table border=\"1\" class=\"dataframe\"><thead><tr><th>source prefix</th><th>source identifier</th><th>source name</th><th>relation</th><th>target prefix</th><th>target identifier</th><th>target name</th><th>type</th><th>confidence</th><th>source</th></tr><tr><td>str</td><td>str</td><td>str</td><td>str</td><td>str</td><td>str</td><td>str</td><td>str</td><td>f64</td><td>str</td></tr></thead><tbody><tr><td>&quot;DOID&quot;</td><td>&quot;DOID:12369&quot;</td><td>&quot;prolapse of urethra&quot;</td><td>&quot;skos:exactMatch&quot;</td><td>&quot;MESH&quot;</td><td>&quot;D011391&quot;</td><td>&quot;Prolapse&quot;</td><td>&quot;semapv:SemanticSimilarityThres…</td><td>0.54</td><td>&quot;LogMap&quot;</td></tr><tr><td>&quot;DOID&quot;</td><td>&quot;DOID:9771&quot;</td><td>&quot;transient neonatal thrombocyto…</td><td>&quot;skos:exactMatch&quot;</td><td>&quot;MESH&quot;</td><td>&quot;D054098&quot;</td><td>&quot;Thrombocytopenia, Neonatal All…</td><td>&quot;semapv:SemanticSimilarityThres…</td><td>0.57</td><td>&quot;LogMap&quot;</td></tr><tr><td>&quot;DOID&quot;</td><td>&quot;DOID:1725&quot;</td><td>&quot;peritoneum cancer&quot;</td><td>&quot;skos:exactMatch&quot;</td><td>&quot;MESH&quot;</td><td>&quot;D010534&quot;</td><td>&quot;Peritoneal Neoplasms&quot;</td><td>&quot;semapv:SemanticSimilarityThres…</td><td>0.65</td><td>&quot;LogMap&quot;</td></tr><tr><td>&quot;DOID&quot;</td><td>&quot;DOID:0070327&quot;</td><td>&quot;melanoma in congenital melanoc…</td><td>&quot;skos:exactMatch&quot;</td><td>&quot;MESH&quot;</td><td>&quot;D009508&quot;</td><td>&quot;Nevus, Pigmented&quot;</td><td>&quot;semapv:SemanticSimilarityThres…</td><td>0.56</td><td>&quot;LogMap&quot;</td></tr><tr><td>&quot;DOID&quot;</td><td>&quot;DOID:1248&quot;</td><td>&quot;ocular hyperemia&quot;</td><td>&quot;skos:exactMatch&quot;</td><td>&quot;MESH&quot;</td><td>&quot;D006940&quot;</td><td>&quot;Hyperemia&quot;</td><td>&quot;semapv:SemanticSimilarityThres…</td><td>0.62</td><td>&quot;LogMap&quot;</td></tr></tbody></table></div>"
      ],
      "text/plain": [
       "shape: (5, 10)\n",
       "┌────────┬────────────┬────────────┬────────────┬───┬────────────┬────────────┬───────────┬────────┐\n",
       "│ source ┆ source     ┆ source     ┆ relation   ┆ … ┆ target     ┆ type       ┆ confidenc ┆ source │\n",
       "│ prefix ┆ identifier ┆ name       ┆ ---        ┆   ┆ name       ┆ ---        ┆ e         ┆ ---    │\n",
       "│ ---    ┆ ---        ┆ ---        ┆ str        ┆   ┆ ---        ┆ str        ┆ ---       ┆ str    │\n",
       "│ str    ┆ str        ┆ str        ┆            ┆   ┆ str        ┆            ┆ f64       ┆        │\n",
       "╞════════╪════════════╪════════════╪════════════╪═══╪════════════╪════════════╪═══════════╪════════╡\n",
       "│ DOID   ┆ DOID:12369 ┆ prolapse   ┆ skos:exact ┆ … ┆ Prolapse   ┆ semapv:Sem ┆ 0.54      ┆ LogMap │\n",
       "│        ┆            ┆ of urethra ┆ Match      ┆   ┆            ┆ anticSimil ┆           ┆        │\n",
       "│        ┆            ┆            ┆            ┆   ┆            ┆ arityThres ┆           ┆        │\n",
       "│        ┆            ┆            ┆            ┆   ┆            ┆ …          ┆           ┆        │\n",
       "│ DOID   ┆ DOID:9771  ┆ transient  ┆ skos:exact ┆ … ┆ Thrombocyt ┆ semapv:Sem ┆ 0.57      ┆ LogMap │\n",
       "│        ┆            ┆ neonatal   ┆ Match      ┆   ┆ openia,    ┆ anticSimil ┆           ┆        │\n",
       "│        ┆            ┆ thrombocyt ┆            ┆   ┆ Neonatal   ┆ arityThres ┆           ┆        │\n",
       "│        ┆            ┆ o…         ┆            ┆   ┆ All…       ┆ …          ┆           ┆        │\n",
       "│ DOID   ┆ DOID:1725  ┆ peritoneum ┆ skos:exact ┆ … ┆ Peritoneal ┆ semapv:Sem ┆ 0.65      ┆ LogMap │\n",
       "│        ┆            ┆ cancer     ┆ Match      ┆   ┆ Neoplasms  ┆ anticSimil ┆           ┆        │\n",
       "│        ┆            ┆            ┆            ┆   ┆            ┆ arityThres ┆           ┆        │\n",
       "│        ┆            ┆            ┆            ┆   ┆            ┆ …          ┆           ┆        │\n",
       "│ DOID   ┆ DOID:00703 ┆ melanoma   ┆ skos:exact ┆ … ┆ Nevus,     ┆ semapv:Sem ┆ 0.56      ┆ LogMap │\n",
       "│        ┆ 27         ┆ in         ┆ Match      ┆   ┆ Pigmented  ┆ anticSimil ┆           ┆        │\n",
       "│        ┆            ┆ congenital ┆            ┆   ┆            ┆ arityThres ┆           ┆        │\n",
       "│        ┆            ┆ melanoc…   ┆            ┆   ┆            ┆ …          ┆           ┆        │\n",
       "│ DOID   ┆ DOID:1248  ┆ ocular     ┆ skos:exact ┆ … ┆ Hyperemia  ┆ semapv:Sem ┆ 0.62      ┆ LogMap │\n",
       "│        ┆            ┆ hyperemia  ┆ Match      ┆   ┆            ┆ anticSimil ┆           ┆        │\n",
       "│        ┆            ┆            ┆            ┆   ┆            ┆ arityThres ┆           ┆        │\n",
       "│        ┆            ┆            ┆            ┆   ┆            ┆ …          ┆           ┆        │\n",
       "└────────┴────────────┴────────────┴────────────┴───┴────────────┴────────────┴───────────┴────────┘"
      ]
     },
     "execution_count": 4,
     "metadata": {},
     "output_type": "execute_result"
    }
   ],
   "source": [
    "novel_predictions = predicted_maps.join(evidence, on=['target identifier'], how='anti')\n",
    "novel_predictions = novel_predictions.join(evidence, on=['source identifier'], how='anti')\n",
    "\n",
    "print(f'out of {len(predicted_maps)} total mappings, there are {len(novel_predictions)} that is {len(novel_predictions)/len(predicted_maps)}')\n",
    "novel_predictions.head()"
   ]
  },
  {
   "cell_type": "markdown",
   "id": "e047ad00",
   "metadata": {},
   "source": [
    "## inspect number of cases where a class is mapped incorrectly. That is either the source or target class is mapped to a different class in our evidence table."
   ]
  },
  {
   "cell_type": "code",
   "execution_count": 5,
   "id": "94b75a77",
   "metadata": {},
   "outputs": [
    {
     "name": "stdout",
     "output_type": "stream",
     "text": [
      "out of 3107 total mappings, there are 252 that is 0.08110717734148697\n"
     ]
    },
    {
     "data": {
      "text/html": [
       "<div><style>\n",
       ".dataframe > thead > tr,\n",
       ".dataframe > tbody > tr {\n",
       "  text-align: right;\n",
       "  white-space: pre-wrap;\n",
       "}\n",
       "</style>\n",
       "<small>shape: (5, 3)</small><table border=\"1\" class=\"dataframe\"><thead><tr><th>target name</th><th>predicted source name</th><th>true source name</th></tr><tr><td>str</td><td>str</td><td>str</td></tr></thead><tbody><tr><td>&quot;Lymphohistiocytosis, Hemophago…</td><td>&quot;familial hemophagocytic lympho…</td><td>&quot;hemophagocytic lymphohistiocyt…</td></tr><tr><td>&quot;Kartagener Syndrome&quot;</td><td>&quot;primary ciliary dyskinesia 1&quot;</td><td>&quot;Kartagener syndrome&quot;</td></tr><tr><td>&quot;Idiopathic Pulmonary Fibrosis&quot;</td><td>&quot;interstitial lung disease 1&quot;</td><td>&quot;idiopathic pulmonary fibrosis&quot;</td></tr><tr><td>&quot;Encephalitis, Tick-Borne&quot;</td><td>&quot;Powassan encephalitis&quot;</td><td>&quot;tick-borne encephalitis&quot;</td></tr><tr><td>&quot;Andersen Syndrome&quot;</td><td>&quot;long QT syndrome 8&quot;</td><td>&quot;Andersen-Tawil syndrome&quot;</td></tr></tbody></table></div>"
      ],
      "text/plain": [
       "shape: (5, 3)\n",
       "┌────────────────────────────────┬────────────────────────────────┬────────────────────────────────┐\n",
       "│ target name                    ┆ predicted source name          ┆ true source name               │\n",
       "│ ---                            ┆ ---                            ┆ ---                            │\n",
       "│ str                            ┆ str                            ┆ str                            │\n",
       "╞════════════════════════════════╪════════════════════════════════╪════════════════════════════════╡\n",
       "│ Lymphohistiocytosis,           ┆ familial hemophagocytic        ┆ hemophagocytic                 │\n",
       "│ Hemophago…                     ┆ lympho…                        ┆ lymphohistiocyt…               │\n",
       "│ Kartagener Syndrome            ┆ primary ciliary dyskinesia 1   ┆ Kartagener syndrome            │\n",
       "│ Idiopathic Pulmonary Fibrosis  ┆ interstitial lung disease 1    ┆ idiopathic pulmonary fibrosis  │\n",
       "│ Encephalitis, Tick-Borne       ┆ Powassan encephalitis          ┆ tick-borne encephalitis        │\n",
       "│ Andersen Syndrome              ┆ long QT syndrome 8             ┆ Andersen-Tawil syndrome        │\n",
       "└────────────────────────────────┴────────────────────────────────┴────────────────────────────────┘"
      ]
     },
     "execution_count": 5,
     "metadata": {},
     "output_type": "execute_result"
    }
   ],
   "source": [
    "targets_mapped_wrong = predicted_maps.join(evidence, on=['target identifier'], how='inner')\n",
    "targets_mapped_wrong = targets_mapped_wrong.join(evidence, on=['source identifier', 'source name'], how='anti')\n",
    "\n",
    "print(f'out of {len(predicted_maps)} total mappings, there are {len(targets_mapped_wrong)} that is {len(targets_mapped_wrong)/len(predicted_maps)}')\n",
    "targets_mapped_wrong.select(\n",
    "    pl.col('target name'),\n",
    "    pl.col(\"source name\").alias(\"predicted source name\"),\n",
    "    pl.col(\"source name_right\").alias(\"true source name\"),\n",
    ").head()"
   ]
  },
  {
   "cell_type": "code",
   "execution_count": 6,
   "id": "99af392b",
   "metadata": {},
   "outputs": [
    {
     "name": "stdout",
     "output_type": "stream",
     "text": [
      "out of 3107 total mappings, there are 179 that is 0.057611844222722884\n"
     ]
    },
    {
     "data": {
      "text/html": [
       "<div><style>\n",
       ".dataframe > thead > tr,\n",
       ".dataframe > tbody > tr {\n",
       "  text-align: right;\n",
       "  white-space: pre-wrap;\n",
       "}\n",
       "</style>\n",
       "<small>shape: (5, 3)</small><table border=\"1\" class=\"dataframe\"><thead><tr><th>source name</th><th>predicted target name</th><th>true target name</th></tr><tr><td>str</td><td>str</td><td>str</td></tr></thead><tbody><tr><td>&quot;nonepidermolytic palmoplantar …</td><td>&quot;Keratoderma, Palmoplantar, Dif…</td><td>&quot;Palmoplantar Keratoderma, None…</td></tr><tr><td>&quot;X-linked hypophosphatemic rick…</td><td>&quot;Rickets, Hypophosphatemic&quot;</td><td>&quot;Familial Hypophosphatemic Rick…</td></tr><tr><td>&quot;intestinal schistosomiasis&quot;</td><td>&quot;Schistosomiasis mansoni&quot;</td><td>&quot;Schistosomiasis japonica&quot;</td></tr><tr><td>&quot;paraganglioma&quot;</td><td>&quot;Paraganglioma, Extra-Adrenal&quot;</td><td>&quot;Paraganglioma&quot;</td></tr><tr><td>&quot;generalized dystonia&quot;</td><td>&quot;Dystonic Disorders&quot;</td><td>&quot;Dystonia 12&quot;</td></tr></tbody></table></div>"
      ],
      "text/plain": [
       "shape: (5, 3)\n",
       "┌───────────────────────────────────┬──────────────────────────────────┬───────────────────────────┐\n",
       "│ source name                       ┆ predicted target name            ┆ true target name          │\n",
       "│ ---                               ┆ ---                              ┆ ---                       │\n",
       "│ str                               ┆ str                              ┆ str                       │\n",
       "╞═══════════════════════════════════╪══════════════════════════════════╪═══════════════════════════╡\n",
       "│ nonepidermolytic palmoplantar …   ┆ Keratoderma, Palmoplantar, Dif…  ┆ Palmoplantar Keratoderma, │\n",
       "│                                   ┆                                  ┆ None…                     │\n",
       "│ X-linked hypophosphatemic rick…   ┆ Rickets, Hypophosphatemic        ┆ Familial Hypophosphatemic │\n",
       "│                                   ┆                                  ┆ Rick…                     │\n",
       "│ intestinal schistosomiasis        ┆ Schistosomiasis mansoni          ┆ Schistosomiasis japonica  │\n",
       "│ paraganglioma                     ┆ Paraganglioma, Extra-Adrenal     ┆ Paraganglioma             │\n",
       "│ generalized dystonia              ┆ Dystonic Disorders               ┆ Dystonia 12               │\n",
       "└───────────────────────────────────┴──────────────────────────────────┴───────────────────────────┘"
      ]
     },
     "execution_count": 6,
     "metadata": {},
     "output_type": "execute_result"
    }
   ],
   "source": [
    "sources_mapped_wrong = predicted_maps.join(evidence, on=['source identifier'], how='inner')\n",
    "sources_mapped_wrong = sources_mapped_wrong.join(evidence, on=['target identifier', 'target name'], how='anti')\n",
    "\n",
    "print(f'out of {len(predicted_maps)} total mappings, there are {len(sources_mapped_wrong)} that is {len(sources_mapped_wrong)/len(predicted_maps)}')\n",
    "sources_mapped_wrong.head()\n",
    "sources_mapped_wrong.select(\n",
    "    pl.col('source name'),\n",
    "    pl.col(\"target name\").alias(\"predicted target name\"),\n",
    "    pl.col(\"target name_right\").alias(\"true target name\"),\n",
    ").head()"
   ]
  },
  {
   "cell_type": "markdown",
   "id": "5248c635",
   "metadata": {},
   "source": [
    "## I want to compare the BERTmap and LogMap results. Unfortunately, the original BERTmap results were lost when I gave back my old work computer. I am re-running the code now."
   ]
  }
 ],
 "metadata": {
  "kernelspec": {
   "display_name": "mapnet",
   "language": "python",
   "name": "python3"
  },
  "language_info": {
   "codemirror_mode": {
    "name": "ipython",
    "version": 3
   },
   "file_extension": ".py",
   "mimetype": "text/x-python",
   "name": "python",
   "nbconvert_exporter": "python",
   "pygments_lexer": "ipython3",
   "version": "3.10.12"
  }
 },
 "nbformat": 4,
 "nbformat_minor": 5
}
